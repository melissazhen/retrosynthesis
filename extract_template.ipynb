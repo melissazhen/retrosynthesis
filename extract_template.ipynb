{
 "cells": [
  {
   "cell_type": "code",
   "execution_count": null,
   "id": "e6664163",
   "metadata": {},
   "outputs": [],
   "source": [
    "import pandas as pd\n",
    "from rdkit import Chem\n",
    "import rdkit.Chem.AllChem as AllChem\n",
    "from rdkit.Chem import PandasTools\n",
    "from rdkit import DataStructs\n",
    "import numpy as np"
   ]
  },
  {
   "cell_type": "code",
   "execution_count": null,
   "id": "3493d543",
   "metadata": {},
   "outputs": [],
   "source": [
    "def extract_template(rxn_smiles,max_prec):\n",
    "    import rdchiral\n",
    "    from rdchiral import template_extractor\n",
    "    templates = []\n",
    "    for i in index[0:max_prec]:\n",
    "        rxnmapped = rxn_smiles[i]\n",
    "        reaction = {\n",
    "        'reactants': rxnmapped.split('>')[0],\n",
    "        'products': rxnmapped.split('>')[-1],\n",
    "        '_id': i,\n",
    "        }\n",
    "        template = template_extractor.extract_from_reaction(reaction)\n",
    "        templates.append(template)\n",
    "    #print(templates)\n",
    "    #print(len(templates))\n",
    "    #display(templates[0]['reaction_smarts'])\n",
    "    print('---------------------------')\n",
    "    rxn_template = []\n",
    "    n = 0\n",
    "    for i in templates:\n",
    "        if i is None or 'reaction_smarts' not in i:\n",
    "            rxn_smarts = None\n",
    "            n += 1\n",
    "            #print(rxn_smarts)\n",
    "            #print(i['reaction_id'])\n",
    "            rxn_template.append(rxn_smarts)\n",
    "            continue\n",
    "        rxn_smarts = '(' + i['reaction_smarts'].replace('>>', ')>>')\n",
    "        #print(rxn_smarts)\n",
    "        #print(i['reaction_id'])\n",
    "        rxn_template.append(rxn_smarts)\n",
    "    #print(len(rxn_template))\n",
    "    print(\"number of invalid templates is %d\" %n)"
   ]
  }
 ],
 "metadata": {
  "kernelspec": {
   "display_name": "Python 3",
   "language": "python",
   "name": "python3"
  },
  "language_info": {
   "codemirror_mode": {
    "name": "ipython",
    "version": 3
   },
   "file_extension": ".py",
   "mimetype": "text/x-python",
   "name": "python",
   "nbconvert_exporter": "python",
   "pygments_lexer": "ipython3",
   "version": "3.6.13"
  }
 },
 "nbformat": 4,
 "nbformat_minor": 5
}
