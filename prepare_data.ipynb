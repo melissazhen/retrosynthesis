{
 "cells": [
  {
   "cell_type": "code",
   "execution_count": 1,
   "id": "3c1cac85",
   "metadata": {},
   "outputs": [],
   "source": [
    "import pandas as pd"
   ]
  },
  {
   "cell_type": "code",
   "execution_count": 2,
   "id": "8cbcd797",
   "metadata": {},
   "outputs": [],
   "source": [
    "#prepare_data\n",
    "data=pd.read_csv(\"data_processed.csv\",encoding=\"gbk\")\n",
    "dataframe = pd.DataFrame({'Product':data['prod_smiles'][range(40000)],'Rxn':data['rxn_smiles'][range(40000)]})\n",
    "dataframe.to_csv('data_train.csv',index=False)\n",
    "dataframe_test = pd.DataFrame({'Product':data['prod_smiles'][40001:50001],'Rxn':data['rxn_smiles'][40001:50001]})\n",
    "dataframe_test.to_csv('data_test.csv',index=False)"
   ]
  },
  {
   "cell_type": "code",
   "execution_count": null,
   "id": "d000e5f8",
   "metadata": {},
   "outputs": [],
   "source": []
  }
 ],
 "metadata": {
  "kernelspec": {
   "display_name": "Python 3",
   "language": "python",
   "name": "python3"
  },
  "language_info": {
   "codemirror_mode": {
    "name": "ipython",
    "version": 3
   },
   "file_extension": ".py",
   "mimetype": "text/x-python",
   "name": "python",
   "nbconvert_exporter": "python",
   "pygments_lexer": "ipython3",
   "version": "3.6.13"
  }
 },
 "nbformat": 4,
 "nbformat_minor": 5
}
