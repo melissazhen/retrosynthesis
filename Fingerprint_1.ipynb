{
 "cells": [
  {
   "cell_type": "code",
   "execution_count": null,
   "id": "207acfa5",
   "metadata": {},
   "outputs": [],
   "source": [
    "import pandas as pd\n",
    "from rdkit import Chem\n",
    "from rdkit.Chem import PandasTools\n",
    "from rdkit import DataStructs\n",
    "import numpy as np"
   ]
  },
  {
   "cell_type": "code",
   "execution_count": null,
   "id": "8b40d22d",
   "metadata": {
    "scrolled": true
   },
   "outputs": [],
   "source": [
    "data = pd.read_csv(\"C:\\\\Users\\\\Administrator\\\\Desktop\\\\reaction_regression.csv\")\n",
    "smile1 = []\n",
    "smile2 = []\n",
    "for i,row in data.iterrows():\n",
    "    strings = data[\"AAM\"][i]\n",
    "    str1,str2 = strings.split(\">>\",1)\n",
    "    smile1.append(str1)\n",
    "    smile2.append(str2)\n",
    "print(smile1[1])\n",
    "print(smile1)\n",
    "print(smile2)\n",
    "np.array(smile1)\n",
    "np.array(smile2)"
   ]
  },
  {
   "cell_type": "code",
   "execution_count": null,
   "id": "d8f1ef1d",
   "metadata": {},
   "outputs": [],
   "source": [
    "from rdkit.Chem import AllChem\n",
    "ml = []\n",
    "for i in smile1:\n",
    "    ml_1 = Chem.MolFromSmiles(i)\n",
    "    ml.append(ml_1)\n",
    "display(ml[1])\n",
    "display(ml)\n"
   ]
  },
  {
   "cell_type": "code",
   "execution_count": null,
   "id": "028b3c93",
   "metadata": {},
   "outputs": [],
   "source": [
    "smile_1 = Chem.MolToSmiles(ml[1])\n",
    "display(smile_1)"
   ]
  },
  {
   "cell_type": "code",
   "execution_count": null,
   "id": "b94403b2",
   "metadata": {
    "scrolled": true
   },
   "outputs": [],
   "source": [
    "MFP = []\n",
    "for i in ml:\n",
    "    MFP1 = AllChem.GetMorganFingerprint(i,2)\n",
    "    MFP.append(MFP1)\n",
    "display(MFP[1])\n",
    "display(MFP)"
   ]
  },
  {
   "cell_type": "code",
   "execution_count": null,
   "id": "6ea37660",
   "metadata": {},
   "outputs": [],
   "source": [
    "MFP_bits = []\n",
    "for i in ml:\n",
    "    MFP_bits1 = AllChem.GetMorganFingerprintAsBitVect(i,2,nBits=1024)\n",
    "    MFP_bits.append(MFP_bits1)\n",
    "display(MFP_bits[1])\n",
    "display(MFP_bits)"
   ]
  },
  {
   "cell_type": "code",
   "execution_count": null,
   "id": "f2af671d",
   "metadata": {},
   "outputs": [],
   "source": [
    "arr = np.zeros((0,), dtype=np.int8)\n",
    "arr"
   ]
  },
  {
   "cell_type": "code",
   "execution_count": null,
   "id": "7a97600f",
   "metadata": {},
   "outputs": [],
   "source": [
    "a = 0\n",
    "for i in range(0,len(MFP_bits)):\n",
    "    DataStructs.ConvertToNumpyArray(MFP_bits[i],arr)\n",
    "    a+=1\n",
    "    print(arr,a)\n",
    "print(len(MFP_bits))"
   ]
  }
 ],
 "metadata": {
  "kernelspec": {
   "display_name": "Python 3",
   "language": "python",
   "name": "python3"
  },
  "language_info": {
   "codemirror_mode": {
    "name": "ipython",
    "version": 3
   },
   "file_extension": ".py",
   "mimetype": "text/x-python",
   "name": "python",
   "nbconvert_exporter": "python",
   "pygments_lexer": "ipython3",
   "version": "3.6.13"
  }
 },
 "nbformat": 4,
 "nbformat_minor": 5
}
