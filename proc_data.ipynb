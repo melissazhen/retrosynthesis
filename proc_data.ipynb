{
 "cells": [
  {
   "cell_type": "code",
   "execution_count": 1,
   "metadata": {},
   "outputs": [],
   "source": [
    "from __future__ import print_function, absolute_import\n",
    "from rdkit import Chem\n",
    "from rdkit.Chem import AllChem\n",
    "import pandas as pd\n",
    "import _pickle as cPickle\n",
    "import numpy as np\n",
    "import re"
   ]
  },
  {
   "cell_type": "code",
   "execution_count": 2,
   "metadata": {},
   "outputs": [],
   "source": [
    "# Load data from Schneider's 50k dataset\n",
    "dataSetB = pd.read_csv('../data/from_schneider/dataSetB.csv')\n",
    "dataSetB['reactantSet_NameRxn'] = [eval(x) for x in dataSetB['reactantSet_NameRxn']]                                           #???"
   ]
  },
  {
   "cell_type": "code",
   "execution_count": 3,
   "metadata": {},
   "outputs": [
    {
     "data": {
      "text/plain": [
       "1     15140\n",
       "2     11889\n",
       "6      8232\n",
       "3      5654\n",
       "7      4610\n",
       "9      1842\n",
       "4       909\n",
       "8       821\n",
       "5       672\n",
       "10      231\n",
       "Name: rxn_Class, dtype: int64"
      ]
     },
     "execution_count": 3,
     "metadata": {},
     "output_type": "execute_result"
    }
   ],
   "source": [
    "# Class stats\n",
    "dataSetB['rxn_Class'].value_counts()"
   ]
  },
  {
   "cell_type": "code",
   "execution_count": 4,
   "metadata": {},
   "outputs": [
    {
     "name": "stdout",
     "output_type": "stream",
     "text": [
      "On index 0\n",
      "On index 5000\n",
      "On index 10000\n",
      "On index 15000\n",
      "On index 20000\n",
      "On index 25000\n",
      "On index 30000\n",
      "On index 35000\n",
      "On index 40000\n",
      "On index 45000\n"
     ]
    }
   ],
   "source": [
    "# Create new df from old (minor processing)\n",
    "classes = []\n",
    "ids = [] \n",
    "rxn_smiles = []\n",
    "prod_smiles = []\n",
    "for row in dataSetB.itertuples():\n",
    "    if row[0] % 5000 == 0:\n",
    "        print('On index {:d}'.format(int(row[0])))\n",
    "        \n",
    "    all_reactants, all_products = row[3].split('>>')\n",
    "    products = [Chem.MolFromSmiles(smi) for smi in all_products.split('.')]\n",
    "    \n",
    "    # Multiple products = enumerate\n",
    "    for prod in products:\n",
    "        \n",
    "        # Make sure all have atom mapping\n",
    "        if not all([a.HasProp('molAtomMapNumber') for a in prod.GetAtoms()]):\n",
    "            continue\n",
    "        \n",
    "        prod_smi = Chem.MolToSmiles(prod, True)\n",
    "        \n",
    "        # Re-parse reactants for each product so we can clear maps\n",
    "        reactants = [Chem.MolFromSmiles(smi) for (i, smi) in enumerate(\n",
    "            all_reactants.split('.')) if i in row[4]]                                                                           #???\n",
    "        \n",
    "        # Get rid of reactants when they don't contribute to this prod\n",
    "        prod_maps = set(re.findall('\\:([[0-9]+)\\]', prod_smi))    \n",
    "        reactants_smi_list = []\n",
    "        for mol in reactants:\n",
    "            used = False\n",
    "            for a in mol.GetAtoms():\n",
    "                if a.HasProp('molAtomMapNumber'):\n",
    "                    if a.GetProp('molAtomMapNumber') in prod_maps:\n",
    "                        used = True \n",
    "                    else:\n",
    "                        a.ClearProp('molAtomMapNumber')\n",
    "            if used:\n",
    "                reactants_smi_list.append(Chem.MolToSmiles(mol, True))\n",
    "                \n",
    "        reactants_smi = '.'.join(reactants_smi_list)\n",
    "        \n",
    "        # Was this just a spectator? Some examples are HCl>>HCl\n",
    "        if reactants_smi == prod_smi:\n",
    "            continue\n",
    "        \n",
    "        # Append to ongoing list\n",
    "        classes.append(row[1])\n",
    "        ids.append(row[2])\n",
    "        rxn_smiles.append('{}>>{}'.format(reactants_smi, prod_smi))\n",
    "        # Save non-mapped prod too\n",
    "        [a.ClearProp('molAtomMapNumber') for a in prod.GetAtoms()]\n",
    "        prod_smiles.append(Chem.MolToSmiles(prod, True))\n",
    "        \n",
    "data = pd.DataFrame({'class': classes, \n",
    "                     'id': ids, \n",
    "                     'rxn_smiles': rxn_smiles,\n",
    "                     'prod_smiles': prod_smiles})"
   ]
  },
  {
   "cell_type": "code",
   "execution_count": 5,
   "metadata": {},
   "outputs": [
    {
     "data": {
      "text/plain": [
       "1     15247\n",
       "2     11906\n",
       "6      8237\n",
       "3      5666\n",
       "7      4614\n",
       "9      1834\n",
       "4       909\n",
       "8       811\n",
       "5       672\n",
       "10      230\n",
       "Name: class, dtype: int64"
      ]
     },
     "execution_count": 5,
     "metadata": {},
     "output_type": "execute_result"
    }
   ],
   "source": [
    "data['class'].value_counts()                                                                         "
   ]
  },
  {
   "cell_type": "code",
   "execution_count": 6,
   "metadata": {},
   "outputs": [
    {
     "name": "stdout",
     "output_type": "stream",
     "text": [
      "[('[Br-]', 48), ('[I-]', 26), ('[Cl-]', 19), ('Cl', 17), ('CC(C)(C)OC(=O)N1CCC(CO)CC1', 6), ('Cc1cccc(C2CC2)c1Oc1nnc(Cl)cc1O', 4), ('Cc1ccc(-c2ccccc2C#N)cc1', 4), ('COc1cc2nccc(Oc3ccc(N)cc3)c2cc1OC', 4), ('COC(=O)c1cccc(N)c1N', 4), ('CN(C)CCn1cc(B2OC(C)(C)C(C)(C)O2)cn1', 3), ('OC(c1ccccc1)c1ccccc1', 3), ('COc1ccc(-c2ccccc2)cc1', 3), ('O=C(NC(CC1C(=O)Nc2ccccc21)C(=O)O)c1ccc(Cl)cc1', 3), ('c1ccc(Pc2ccccc2)cc1', 3), ('Cc1noc(NS(=O)(=O)c2cc(Cl)ccc2Cl)c1Br', 3), ('Cc1ccc(N)c(N)n1', 3), ('O=C(NCCN1CCOCC1)c1ccc(Cl)cc1', 3), ('CC(C)(C)OC(=O)N1CCC(CCO)CC1', 3), ('CC(C)(C)OC(=O)N1CCN(Cc2ccc(Br)cc2)CC1', 3), ('O=C(O)CCCCCNC(=O)C(F)(F)F', 3), ('CC(C)(C)OC(=O)c1ccc(CBr)cc1', 3), ('CC(C)(C)OC(=O)N[C@@H](CC(=O)N1CCn2c(nnc2C(F)(F)F)C1)Cc1cc(F)c(F)cc1F', 3), ('c1ccc(C(c2ccccc2)(c2ccccc2)n2ccnc2)cc1', 3), ('Fc1cc(Br)ccc1OCc1ccccc1', 3), ('Nc1cc(Br)ccc1O', 3)]\n"
     ]
    }
   ],
   "source": [
    "# Find most popular product smiles (probably frags/salts)\n",
    "from collections import Counter\n",
    "prod_smi_counter =  Counter(data['prod_smiles'])\n",
    "print(prod_smi_counter.most_common(25))"
   ]
  },
  {
   "cell_type": "code",
   "execution_count": 7,
   "metadata": {},
   "outputs": [
    {
     "data": {
      "text/plain": [
       "1     15150\n",
       "2     11893\n",
       "6      8237\n",
       "3      5661\n",
       "7      4613\n",
       "9      1834\n",
       "4       909\n",
       "8       811\n",
       "5       672\n",
       "10      230\n",
       "Name: class, dtype: int64"
      ]
     },
     "execution_count": 7,
     "metadata": {},
     "output_type": "execute_result"
    }
   ],
   "source": [
    "data['prod_smiles_pop'] = [prod_smi_counter[smi] for smi in data['prod_smiles']]\n",
    "data['keep'] = [x[5] < 10 and \n",
    "                len(x[4]) >= 5 for\n",
    "                x in data.itertuples()]\n",
    "data.loc[data['keep']]['class'].value_counts()                                                              "
   ]
  },
  {
   "cell_type": "code",
   "execution_count": 8,
   "metadata": {},
   "outputs": [],
   "source": [
    "data.loc[data['keep']].to_csv('../data/data_processed.csv')"
   ]
  }
 ],
 "metadata": {
  "kernelspec": {
   "display_name": "Python 3",
   "language": "python",
   "name": "python3"
  },
  "language_info": {
   "codemirror_mode": {
    "name": "ipython",
    "version": 3
   },
   "file_extension": ".py",
   "mimetype": "text/x-python",
   "name": "python",
   "nbconvert_exporter": "python",
   "pygments_lexer": "ipython3",
   "version": "3.6.13"
  }
 },
 "nbformat": 4,
 "nbformat_minor": 2
}
