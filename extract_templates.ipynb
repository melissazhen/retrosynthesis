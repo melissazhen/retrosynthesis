{
 "cells": [
  {
   "cell_type": "code",
   "execution_count": 1,
   "metadata": {},
   "outputs": [],
   "source": [
    "from __future__ import print_function\n",
    "from rdkit.Chem.Draw import IPythonConsole, ReactionToImage, MolToImage\n",
    "import pandas as pd\n",
    "import numpy as np\n",
    "import json\n",
    "import sys\n",
    "sys.path.append('../../')\n",
    "from retrosim.utils.draw import ReactionStringToImage, TransformStringToImage\n",
    "from retrosim.utils.generate_retro_templates import process_an_example\n",
    "from retrosim.data.get_data import get_data_df, split_data_df"
   ]
  },
  {
   "cell_type": "code",
   "execution_count": 2,
   "metadata": {},
   "outputs": [
    {
     "name": "stdout",
     "output_type": "stream",
     "text": [
      "15150 rows with class value 1\n",
      "11893 rows with class value 2\n",
      "5661 rows with class value 3\n",
      "909 rows with class value 4\n",
      "672 rows with class value 5\n",
      "8237 rows with class value 6\n",
      "4613 rows with class value 7\n",
      "811 rows with class value 8\n",
      "1834 rows with class value 9\n",
      "230 rows with class value 10\n",
      "train    40004\n",
      "test      5006\n",
      "val       5000\n",
      "Name: dataset, dtype: int64\n"
     ]
    }
   ],
   "source": [
    "data = get_data_df('../data/data_processed.csv')\n",
    "split_data_df(data) # 80/10/10 within each class"
   ]
  },
  {
   "cell_type": "code",
   "execution_count": 3,
   "metadata": {
    "scrolled": true
   },
   "outputs": [
    {
     "name": "stdout",
     "output_type": "stream",
     "text": [
      "O=C(OCc1ccccc1)[NH:1][CH2:2][CH2:3][CH2:4][CH2:5][C@@H:6]([C:7]([O:8][CH3:9])=[O:10])[NH:11][C:12](=[O:13])[NH:14][c:15]1[cH:16][c:17]([O:18][CH3:19])[cH:20][c:21]([C:22]([CH3:23])([CH3:24])[CH3:25])[c:26]1[OH:27]>>[NH2:1][CH2:2][CH2:3][CH2:4][CH2:5][C@@H:6]([C:7]([O:8][CH3:9])=[O:10])[NH:11][C:12](=[O:13])[NH:14][c:15]1[cH:16][c:17]([O:18][CH3:19])[cH:20][c:21]([C:22]([CH3:23])([CH3:24])[CH3:25])[c:26]1[OH:27]\n",
      "Warning: unable to load font metrics from dir C:\\ProgramData\\Anaconda3\\envs\\rxnmap\\lib\\site-packages\\rdkit\\sping\\PIL\\pilfonts\n",
      "0 0\n",
      "1030 420\n",
      "1220 0\n"
     ]
    },
    {
     "ename": "AttributeError",
     "evalue": "text",
     "output_type": "error",
     "traceback": [
      "\u001b[1;31m---------------------------------------------------------------------------\u001b[0m",
      "\u001b[1;31mAttributeError\u001b[0m                            Traceback (most recent call last)",
      "\u001b[1;32mC:\\ProgramData\\Anaconda3\\envs\\rxnmap\\lib\\site-packages\\IPython\\core\\formatters.py\u001b[0m in \u001b[0;36m__call__\u001b[1;34m(self, obj)\u001b[0m\n\u001b[0;32m    343\u001b[0m             \u001b[0mmethod\u001b[0m \u001b[1;33m=\u001b[0m \u001b[0mget_real_method\u001b[0m\u001b[1;33m(\u001b[0m\u001b[0mobj\u001b[0m\u001b[1;33m,\u001b[0m \u001b[0mself\u001b[0m\u001b[1;33m.\u001b[0m\u001b[0mprint_method\u001b[0m\u001b[1;33m)\u001b[0m\u001b[1;33m\u001b[0m\u001b[1;33m\u001b[0m\u001b[0m\n\u001b[0;32m    344\u001b[0m             \u001b[1;32mif\u001b[0m \u001b[0mmethod\u001b[0m \u001b[1;32mis\u001b[0m \u001b[1;32mnot\u001b[0m \u001b[1;32mNone\u001b[0m\u001b[1;33m:\u001b[0m\u001b[1;33m\u001b[0m\u001b[1;33m\u001b[0m\u001b[0m\n\u001b[1;32m--> 345\u001b[1;33m                 \u001b[1;32mreturn\u001b[0m \u001b[0mmethod\u001b[0m\u001b[1;33m(\u001b[0m\u001b[1;33m)\u001b[0m\u001b[1;33m\u001b[0m\u001b[1;33m\u001b[0m\u001b[0m\n\u001b[0m\u001b[0;32m    346\u001b[0m             \u001b[1;32mreturn\u001b[0m \u001b[1;32mNone\u001b[0m\u001b[1;33m\u001b[0m\u001b[1;33m\u001b[0m\u001b[0m\n\u001b[0;32m    347\u001b[0m         \u001b[1;32melse\u001b[0m\u001b[1;33m:\u001b[0m\u001b[1;33m\u001b[0m\u001b[1;33m\u001b[0m\u001b[0m\n",
      "\u001b[1;32mC:\\ProgramData\\Anaconda3\\envs\\rxnmap\\lib\\site-packages\\rdkit\\Chem\\Draw\\IPythonConsole.py\u001b[0m in \u001b[0;36mdisplay_pil_image\u001b[1;34m(img)\u001b[0m\n\u001b[0;32m    165\u001b[0m   \u001b[1;31m# pull metadata from the image, if there\u001b[0m\u001b[1;33m\u001b[0m\u001b[1;33m\u001b[0m\u001b[1;33m\u001b[0m\u001b[0m\n\u001b[0;32m    166\u001b[0m   \u001b[0mmetadata\u001b[0m \u001b[1;33m=\u001b[0m \u001b[0mPngInfo\u001b[0m\u001b[1;33m(\u001b[0m\u001b[1;33m)\u001b[0m\u001b[1;33m\u001b[0m\u001b[1;33m\u001b[0m\u001b[0m\n\u001b[1;32m--> 167\u001b[1;33m   \u001b[1;32mfor\u001b[0m \u001b[0mk\u001b[0m\u001b[1;33m,\u001b[0m \u001b[0mv\u001b[0m \u001b[1;32min\u001b[0m \u001b[0mimg\u001b[0m\u001b[1;33m.\u001b[0m\u001b[0mtext\u001b[0m\u001b[1;33m.\u001b[0m\u001b[0mitems\u001b[0m\u001b[1;33m(\u001b[0m\u001b[1;33m)\u001b[0m\u001b[1;33m:\u001b[0m\u001b[1;33m\u001b[0m\u001b[1;33m\u001b[0m\u001b[0m\n\u001b[0m\u001b[0;32m    168\u001b[0m     \u001b[0mmetadata\u001b[0m\u001b[1;33m.\u001b[0m\u001b[0madd_text\u001b[0m\u001b[1;33m(\u001b[0m\u001b[0mk\u001b[0m\u001b[1;33m,\u001b[0m \u001b[0mv\u001b[0m\u001b[1;33m)\u001b[0m\u001b[1;33m\u001b[0m\u001b[1;33m\u001b[0m\u001b[0m\n\u001b[0;32m    169\u001b[0m   \u001b[0mbio\u001b[0m \u001b[1;33m=\u001b[0m \u001b[0mBytesIO\u001b[0m\u001b[1;33m(\u001b[0m\u001b[1;33m)\u001b[0m\u001b[1;33m\u001b[0m\u001b[1;33m\u001b[0m\u001b[0m\n",
      "\u001b[1;32mC:\\ProgramData\\Anaconda3\\envs\\rxnmap\\lib\\site-packages\\PIL\\Image.py\u001b[0m in \u001b[0;36m__getattr__\u001b[1;34m(self, name)\u001b[0m\n\u001b[0;32m    544\u001b[0m             )\n\u001b[0;32m    545\u001b[0m             \u001b[1;32mreturn\u001b[0m \u001b[0mself\u001b[0m\u001b[1;33m.\u001b[0m\u001b[0m_category\u001b[0m\u001b[1;33m\u001b[0m\u001b[1;33m\u001b[0m\u001b[0m\n\u001b[1;32m--> 546\u001b[1;33m         \u001b[1;32mraise\u001b[0m \u001b[0mAttributeError\u001b[0m\u001b[1;33m(\u001b[0m\u001b[0mname\u001b[0m\u001b[1;33m)\u001b[0m\u001b[1;33m\u001b[0m\u001b[1;33m\u001b[0m\u001b[0m\n\u001b[0m\u001b[0;32m    547\u001b[0m \u001b[1;33m\u001b[0m\u001b[0m\n\u001b[0;32m    548\u001b[0m     \u001b[1;33m@\u001b[0m\u001b[0mproperty\u001b[0m\u001b[1;33m\u001b[0m\u001b[1;33m\u001b[0m\u001b[0m\n",
      "\u001b[1;31mAttributeError\u001b[0m: text"
     ]
    },
    {
     "data": {
      "text/plain": [
       "<PIL.Image.Image image mode=RGBA size=2250x1030 at 0x233C464B550>"
      ]
     },
     "execution_count": 3,
     "metadata": {},
     "output_type": "execute_result"
    }
   ],
   "source": [
    "print(data['rxn_smiles'][0])\n",
    "ReactionStringToImage(data['rxn_smiles'][0])"
   ]
  },
  {
   "cell_type": "code",
   "execution_count": 4,
   "metadata": {},
   "outputs": [
    {
     "name": "stderr",
     "output_type": "stream",
     "text": [
      "[Parallel(n_jobs=8)]: Using backend LokyBackend with 8 concurrent workers.\n",
      "[Parallel(n_jobs=8)]: Done  16 tasks      | elapsed:    1.2s\n",
      "[Parallel(n_jobs=8)]: Done 456 tasks      | elapsed:    2.2s\n",
      "[Parallel(n_jobs=8)]: Done 1736 tasks      | elapsed:    5.4s\n",
      "[Parallel(n_jobs=8)]: Done 3528 tasks      | elapsed:    9.7s\n",
      "[Parallel(n_jobs=8)]: Done 5832 tasks      | elapsed:   14.3s\n",
      "[Parallel(n_jobs=8)]: Done 8648 tasks      | elapsed:   19.7s\n",
      "[Parallel(n_jobs=8)]: Done 11976 tasks      | elapsed:   25.9s\n",
      "[Parallel(n_jobs=8)]: Done 15816 tasks      | elapsed:   35.0s\n",
      "[Parallel(n_jobs=8)]: Done 20168 tasks      | elapsed:   43.7s\n",
      "[Parallel(n_jobs=8)]: Done 25032 tasks      | elapsed:   56.9s\n",
      "[Parallel(n_jobs=8)]: Done 30408 tasks      | elapsed:  1.2min\n",
      "[Parallel(n_jobs=8)]: Done 36296 tasks      | elapsed:  1.4min\n",
      "[Parallel(n_jobs=8)]: Done 39989 out of 40004 | elapsed:  1.6min remaining:    0.0s\n",
      "[Parallel(n_jobs=8)]: Done 40004 out of 40004 | elapsed:  1.6min finished\n"
     ]
    }
   ],
   "source": [
    "from joblib import Parallel, delayed\n",
    "import multiprocessing\n",
    "\n",
    "def extract_one_template(reaction_smiles):\n",
    "    retro_canonical = process_an_example(reaction_smiles, super_general=True)\n",
    "    if retro_canonical is None:\n",
    "        return None\n",
    "    return '({})>>{}'.format(retro_canonical.split('>>')[0], retro_canonical.split('>>')[1])\n",
    "    \n",
    "inputs = list(data.loc[data['dataset']=='train']['rxn_smiles'])\n",
    "num_cores = multiprocessing.cpu_count()\n",
    "all_retro_canonical_uni = Parallel(n_jobs=num_cores, verbose=3)(delayed(extract_one_template)(i) for i in inputs)\n",
    "\n",
    "templates = {}\n",
    "for retro_canonical_uni in all_retro_canonical_uni:\n",
    "    if retro_canonical_uni in templates:\n",
    "        templates[retro_canonical_uni] += 1\n",
    "    else:\n",
    "        templates[retro_canonical_uni] = 1"
   ]
  },
  {
   "cell_type": "code",
   "execution_count": 5,
   "metadata": {},
   "outputs": [],
   "source": [
    "with open('../data/templates_general.json', 'w') as fid:\n",
    "    json.dump(templates, fid, indent=4)"
   ]
  },
  {
   "cell_type": "code",
   "execution_count": 6,
   "metadata": {},
   "outputs": [
    {
     "name": "stdout",
     "output_type": "stream",
     "text": [
      "2523     ([C;H0;+0:1]-[NH;+0:2])>>O-[C;H0;+0:1].[NH2;+0:2]\n",
      "1787     ([OH;+0:1])>>C-[O;H0;+0:1]\n",
      "1274     ([NH2;+0:1])>>O=[N+;H0:1]-[O-]\n",
      "1172     ([C;H0;+0:1]-[N;H0;+0:2])>>O-[C;H0;+0:1].[NH;+0:2]\n",
      "1145     ([NH;+0:1]-[c;H0;+0:2])>>Cl-[c;H0;+0:2].[NH2;+0:1]\n",
      "1113     ([OH;+0:1])>>C-C-[O;H0;+0:1]\n",
      "1067     ([C;H0;+0:1]-[NH;+0:2])>>Cl-[C;H0;+0:1].[NH2;+0:2]\n",
      "839     ([NH;+0:1])>>C-C(-C)(-C)-O-C(=O)-[N;H0;+0:1]\n",
      "791     ([CH2;+0:1]-[O;H0;+0:2])>>Br-[CH2;+0:1].[OH;+0:2]\n",
      "637     ([C;H0;+0:1]-[N;H0;+0:2])>>Cl-[C;H0;+0:1].[NH;+0:2]\n",
      "614     ([NH2;+0:1])>>C-C(-C)(-C)-O-C(=O)-[NH;+0:1]\n",
      "606     ([CH2;+0:1]-[N;H0;+0:2])>>Br-[CH2;+0:1].[NH;+0:2]\n",
      "572     ([N;H0;+0:1]-[c;H0;+0:2])>>Cl-[c;H0;+0:2].[NH;+0:1]\n",
      "522     ([c;H0;+0:1]-[c;H0;+0:2])>>Br-[c;H0;+0:1].O-B(-O)-[c;H0;+0:2]\n",
      "512     ([NH;+0:1]-[S;H0;+0:2])>>Cl-[S;H0;+0:2].[NH2;+0:1]\n",
      "497     ([CH2;+0:1]-[N;H0;+0:2])>>Cl-[CH2;+0:1].[NH;+0:2]\n",
      "442     ([CH2;+0:1]-[O;H0;+0:2])>>O-[CH2;+0:1].[OH;+0:2]\n",
      "432     ([O;H0;+0:1]-[c;H0;+0:2])>>Cl-[c;H0;+0:2].[OH;+0:1]\n",
      "429     ([CH2;+0:1])>>O=[C;H0;+0:1]\n",
      "422     ([CH2;+0:1]-[n;H0;+0:2])>>Br-[CH2;+0:1].[nH;+0:2]\n",
      "414     ([CH2;+0:1]-[O;H0;+0:2])>>Cl-[CH2;+0:1].[OH;+0:2]\n",
      "390     ([CH2;+0:1]-[N;H0;+0:2])>>O=[CH;+0:1].[NH;+0:2]\n",
      "382     ([OH;+0:1])>>[O;H0;+0:1]-C-c1:c:c:c:c:c:1\n",
      "376     ([c;H0;+0:1]-[c;H0;+0:2])>>Br-[c;H0;+0:2].O-B(-O)-[c;H0;+0:1]\n",
      "370     ([CH2;+0:1]-[NH;+0:2])>>O=[CH;+0:1].[NH2;+0:2]\n",
      "310     ([O;H0;+0:1]-[S;H0;+0:2])>>Cl-[S;H0;+0:2].[OH;+0:1]\n",
      "293     ([CH;+0:1]-[OH;+0:2])>>[C;H0;+0:1]=[O;H0;+0:2]\n",
      "289     ([N;H0;+0:1]-[c;H0;+0:2])>>Br-[c;H0;+0:2].[NH;+0:1]\n",
      "280     ([OH;+0:1])>>C-C(-C)(-C)-[O;H0;+0:1]\n",
      "275     ([C;H0;+0:1]-[O;H0;+0:2])>>Cl-[C;H0;+0:1].[OH;+0:2]\n",
      "268     ([NH;+0:1]-[C;H0;+0:2]-[NH;+0:3])>>[C;H0;+0:2]=[N;H0;+0:3].[NH2;+0:1]\n",
      "260     ([CH;+0:1]=[O;H0;+0:2])>>[CH2;+0:1]-[OH;+0:2]\n",
      "244     ([c;H0;+0:1]-[c;H0;+0:2])>>Br-[c;H0;+0:1].C-C1(-C)-O-B(-[c;H0;+0:2])-O-C-1(-C)-C\n",
      "243     ([N;H0;+0:1]-[S;H0;+0:2])>>Cl-[S;H0;+0:2].[NH;+0:1]\n",
      "223     ([CH2;+0:1]-[OH;+0:2])>>C-O-[C;H0;+0:1]=[O;H0;+0:2]\n",
      "218     ([C;H0;+0:1]=[CH;+0:2])>>O=[CH;+0:2].[CH2;+0:1]\n",
      "218     ([C;H0;+0:1]=[N;H0;+0:2])>>O=[C;H0;+0:1].[NH2;+0:2]\n",
      "216     ([CH2;+0:1]-[n;H0;+0:2])>>Cl-[CH2;+0:1].[nH;+0:2]\n",
      "216     ([O;H0;+0:1]-[c;H0;+0:2])>>F-[c;H0;+0:2].[OH;+0:1]\n",
      "211     ([CH;+0:1]=[N;H0;+0:2])>>O=[CH;+0:1].[NH2;+0:2]\n",
      "203     ([NH;+0:1]-[c;H0;+0:2])>>Br-[c;H0;+0:2].[NH2;+0:1]\n",
      "201     ([c;H0;+0:1]-[c;H0;+0:2])>>Br-[c;H0;+0:2].C-C1(-C)-O-B(-[c;H0;+0:1])-O-C-1(-C)-C\n",
      "200     ([C;H0;+0:1]-[NH;+0:2])>>C-C-O-[C;H0;+0:1].[NH2;+0:2]\n",
      "199     ([C;H0;+0:1]-[NH;+0:2])>>C-O-[C;H0;+0:1].[NH2;+0:2]\n",
      "195     ([N;H0;+0:1]-[c;H0;+0:2])>>F-[c;H0;+0:2].[NH;+0:1]\n",
      "195     ([CH2;+0:1]-[OH;+0:2])>>C-C-O-[C;H0;+0:1]=[O;H0;+0:2]\n",
      "189     ([C;H0;+0:1]-[c;H0;+0:2])>>Br-[c;H0;+0:2].[CH;+0:1]\n",
      "184     ([C;H0;+0:1]-[c;H0;+0:2])>>I-[c;H0;+0:2].[CH;+0:1]\n",
      "176     ([CH2;+0:1]-[NH2;+0:2])>>[C;H0;+0:1]#[N;H0;+0:2]\n",
      "176     ([CH2;+0:1]-[CH2;+0:2])>>[CH;+0:1]=[CH;+0:2]\n"
     ]
    }
   ],
   "source": [
    "for template, count in sorted(templates.items(), \n",
    "                              key=lambda x: x[1], reverse=True)[:50]:\n",
    "    print('{}     {}'.format(count, template))"
   ]
  },
  {
   "cell_type": "code",
   "execution_count": 7,
   "metadata": {},
   "outputs": [
    {
     "data": {
      "text/plain": [
       "1320"
      ]
     },
     "execution_count": 7,
     "metadata": {},
     "output_type": "execute_result"
    }
   ],
   "source": [
    "sum([count == 1 for count in templates.values()])"
   ]
  },
  {
   "cell_type": "code",
   "execution_count": 8,
   "metadata": {},
   "outputs": [
    {
     "data": {
      "text/plain": [
       "2303"
      ]
     },
     "execution_count": 8,
     "metadata": {},
     "output_type": "execute_result"
    }
   ],
   "source": [
    "len(templates)"
   ]
  },
  {
   "cell_type": "markdown",
   "metadata": {},
   "source": [
    "## Testing self-specificity"
   ]
  },
  {
   "cell_type": "code",
   "execution_count": 9,
   "metadata": {},
   "outputs": [
    {
     "name": "stderr",
     "output_type": "stream",
     "text": [
      "[Parallel(n_jobs=8)]: Using backend LokyBackend with 8 concurrent workers.\n",
      "[Parallel(n_jobs=8)]: Done  16 tasks      | elapsed:    0.0s\n",
      "[Parallel(n_jobs=8)]: Done 624 tasks      | elapsed:    1.6s\n",
      "[Parallel(n_jobs=8)]: Done 1904 tasks      | elapsed:    5.0s\n",
      "[Parallel(n_jobs=8)]: Done 3696 tasks      | elapsed:    9.4s\n",
      "[Parallel(n_jobs=8)]: Done 6000 tasks      | elapsed:   15.4s\n",
      "[Parallel(n_jobs=8)]: Done 8816 tasks      | elapsed:   23.2s\n",
      "[Parallel(n_jobs=8)]: Done 12144 tasks      | elapsed:   33.5s\n",
      "[Parallel(n_jobs=8)]: Done 15984 tasks      | elapsed:   45.0s\n",
      "[Parallel(n_jobs=8)]: Done 20336 tasks      | elapsed:   58.8s\n",
      "[Parallel(n_jobs=8)]: Done 25200 tasks      | elapsed:  1.2min\n",
      "[Parallel(n_jobs=8)]: Done 30576 tasks      | elapsed:  1.5min\n",
      "[Parallel(n_jobs=8)]: Done 36464 tasks      | elapsed:  1.8min\n",
      "[Parallel(n_jobs=8)]: Done 39989 out of 40004 | elapsed:  2.0min remaining:    0.0s\n",
      "[Parallel(n_jobs=8)]: Done 40004 out of 40004 | elapsed:  2.0min finished\n"
     ]
    }
   ],
   "source": [
    "import rdkit.Chem as Chem\n",
    "\n",
    "def test_one(reaction_smiles):\n",
    "    retro_canonical = extract_one_template(reaction_smiles)\n",
    "    if retro_canonical is None:\n",
    "        return -1\n",
    "    product = Chem.MolFromSmiles(reaction_smiles.split('>')[-1])\n",
    "    pattern = Chem.MolFromSmarts(retro_canonical[1:].split(')>>')[0])\n",
    "    matches = set(frozenset(x) for x in product.GetSubstructMatches(pattern))\n",
    "    return len(matches)\n",
    "\n",
    "inputs = data.loc[data['dataset']=='train']['rxn_smiles']\n",
    "num_matches = Parallel(n_jobs=num_cores, verbose=3)(delayed(test_one)(i) for i in inputs)"
   ]
  },
  {
   "cell_type": "code",
   "execution_count": 10,
   "metadata": {},
   "outputs": [
    {
     "data": {
      "text/plain": [
       "Text(0, 0.5, 'Number of examples')"
      ]
     },
     "execution_count": 10,
     "metadata": {},
     "output_type": "execute_result"
    },
    {
     "data": {
      "image/png": "[encoded data removed]",
      "text/plain": [
       "<Figure size 432x288 with 1 Axes>"
      ]
     },
     "metadata": {
      "needs_background": "light"
     },
     "output_type": "display_data"
    }
   ],
   "source": [
    "import matplotlib.pyplot as plt\n",
    "%matplotlib inline\n",
    "df = pd.DataFrame({'pop': num_matches})\n",
    "plot = df['pop'].hist(bins=[x+0.5 for x in range(10)])\n",
    "plot.set_title(\"Template self-specificity ({} total examples)\".format(len(num_matches)))\n",
    "plot.set_xlabel(\"Number of matches\")\n",
    "plot.set_ylabel(\"Number of examples\")"
   ]
  },
  {
   "cell_type": "code",
   "execution_count": null,
   "metadata": {},
   "outputs": [],
   "source": []
  }
 ],
 "metadata": {
  "kernelspec": {
   "display_name": "Python 3",
   "language": "python",
   "name": "python3"
  },
  "language_info": {
   "codemirror_mode": {
    "name": "ipython",
    "version": 3
   },
   "file_extension": ".py",
   "mimetype": "text/x-python",
   "name": "python",
   "nbconvert_exporter": "python",
   "pygments_lexer": "ipython3",
   "version": "3.6.13"
  }
 },
 "nbformat": 4,
 "nbformat_minor": 2
}
