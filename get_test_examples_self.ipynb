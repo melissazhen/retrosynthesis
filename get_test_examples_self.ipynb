{
 "cells": [
  {
   "cell_type": "code",
   "execution_count": 1,
   "metadata": {},
   "outputs": [],
   "source": [
    "from rdkit import RDLogger\n",
    "lg = RDLogger.logger()\n",
    "lg.setLevel(4)"
   ]
  },
  {
   "cell_type": "code",
   "execution_count": 2,
   "metadata": {},
   "outputs": [],
   "source": [
    "from __future__ import print_function\n",
    "from rdkit.Chem.Draw import IPythonConsole, ReactionToImage, MolToImage, MolsToGridImage\n",
    "from IPython.display import SVG, display, clear_output\n",
    "import rdkit.Chem as Chem\n",
    "import rdkit.Chem.AllChem as AllChem\n",
    "from rdkit import DataStructs\n",
    "import pandas as pd\n",
    "import numpy as np\n",
    "from tqdm import tqdm\n",
    "import json\n",
    "import sys\n",
    "sys.path.append('../../')\n",
    "from retrosim.utils.draw import ReactionStringToImage, TransformStringToImage\n",
    "from retrosim.utils.generate_retro_templates import process_an_example\n",
    "from retrosim.data.get_data import get_data_df, split_data_df\n",
    "from rdchiral.main import rdchiralRun, rdchiralReaction, rdchiralReactants\n",
    "\n",
    "from joblib import Parallel, delayed\n",
    "import multiprocessing\n",
    "num_cores = multiprocessing.cpu_count()"
   ]
  },
  {
   "cell_type": "code",
   "execution_count": 3,
   "metadata": {},
   "outputs": [
    {
     "name": "stdout",
     "output_type": "stream",
     "text": [
      "15150 rows with class value 1\n",
      "11893 rows with class value 2\n",
      "5661 rows with class value 3\n",
      "909 rows with class value 4\n",
      "672 rows with class value 5\n",
      "8237 rows with class value 6\n",
      "4613 rows with class value 7\n",
      "811 rows with class value 8\n",
      "1834 rows with class value 9\n",
      "230 rows with class value 10\n",
      "train    40004\n",
      "test      5006\n",
      "val       5000\n",
      "Name: dataset, dtype: int64\n"
     ]
    }
   ],
   "source": [
    "data = get_data_df('../data/data_processed.csv')\n",
    "split_data_df(data) # 80/10/10 within each class"
   ]
  },
  {
   "cell_type": "code",
   "execution_count": 4,
   "metadata": {},
   "outputs": [
    {
     "data": {
      "text/plain": [
       "1     1515\n",
       "2     1190\n",
       "6      824\n",
       "3      567\n",
       "7      462\n",
       "9      184\n",
       "4       91\n",
       "8       82\n",
       "5       68\n",
       "10      23\n",
       "Name: class, dtype: int64"
      ]
     },
     "execution_count": 4,
     "metadata": {},
     "output_type": "execute_result"
    }
   ],
   "source": [
    "data.loc[data['dataset'] == 'test']['class'].value_counts()"
   ]
  },
  {
   "cell_type": "markdown",
   "metadata": {},
   "source": [
    "## Select one set of settings to test\n",
    "(use the test_similiarity.py script to do the full set of experiments)"
   ]
  },
  {
   "cell_type": "code",
   "execution_count": 5,
   "metadata": {},
   "outputs": [],
   "source": [
    "class_ = 3\n",
    "similarity_metric = DataStructs.BulkTanimotoSimilarity # BulkDiceSimilarity or BulkTanimotoSimilarity\n",
    "similarity_label = 'Tanimoto'\n",
    "getfp = lambda smi: AllChem.GetMorganFingerprint(Chem.MolFromSmiles(smi), 2, useFeatures=True)\n",
    "getfp_label = 'Morgan2Feat'\n",
    "dataset = 'test'\n",
    "label = '{}_class{}_fp{}_sim{}'.format(\n",
    "    dataset,\n",
    "    class_,\n",
    "    getfp_label,\n",
    "    similarity_label,\n",
    ")"
   ]
  },
  {
   "cell_type": "markdown",
   "metadata": {},
   "source": [
    "### Only get new FPs if necessary - is a little slow"
   ]
  },
  {
   "cell_type": "code",
   "execution_count": 6,
   "metadata": {
    "scrolled": true
   },
   "outputs": [
    {
     "name": "stderr",
     "output_type": "stream",
     "text": [
      "100%|██████████████████████████████████████████████████████████████████████████| 50010/50010 [00:39<00:00, 1275.70it/s]\n"
     ]
    }
   ],
   "source": [
    "try:\n",
    "    if prev_FP != getfp_label:\n",
    "        raise NameError\n",
    "except NameError:\n",
    "    all_fps = []\n",
    "    for smi in tqdm(data['prod_smiles']):\n",
    "        all_fps.append(getfp(smi))\n",
    "    data['prod_fp'] = all_fps\n",
    "    prev_FP = getfp_label"
   ]
  },
  {
   "cell_type": "markdown",
   "metadata": {},
   "source": [
    "### Get the training data subset of the full data"
   ]
  },
  {
   "cell_type": "code",
   "execution_count": 7,
   "metadata": {},
   "outputs": [
    {
     "name": "stdout",
     "output_type": "stream",
     "text": [
      "Size of knowledge base: 4528\n"
     ]
    }
   ],
   "source": [
    "if class_ != 'all':\n",
    "    datasub = data.loc[data['class'] == class_].loc[data['dataset'] == 'train']\n",
    "    datasub_val = data.loc[data['class'] == class_].loc[data['dataset'] == dataset]\n",
    "else:\n",
    "    datasub = data.loc[data['dataset'] == 'train']\n",
    "    datasub_val = data.loc[data['dataset'] == dataset]\n",
    "fps = list(datasub['prod_fp'])\n",
    "print('Size of knowledge base: {}'.format(len(fps)))"
   ]
  },
  {
   "cell_type": "markdown",
   "metadata": {},
   "source": [
    "## Go through full validation/test data, define the function for processing"
   ]
  },
  {
   "cell_type": "code",
   "execution_count": 8,
   "metadata": {
    "scrolled": true
   },
   "outputs": [],
   "source": [
    "jx_cache = {}\n",
    "draw = False\n",
    "debug = False\n",
    "\n",
    "def do_one(ix, draw=draw, debug=debug, max_prec=100, nopause=False):\n",
    "    \n",
    "    rec_for_printing = ''\n",
    "    \n",
    "    ex = Chem.MolFromSmiles(datasub_val['prod_smiles'][ix])\n",
    "    rct = rdchiralReactants(datasub_val['prod_smiles'][ix])\n",
    "    if draw: \n",
    "        print('Mol {}'.format(ix))\n",
    "    if debug:\n",
    "        rec_for_printing += datasub_val['prod_smiles'][ix] + '\\n'\n",
    "        rec_for_printing += 'True reaction:'\n",
    "        rec_for_printing += datasub_val['rxn_smiles'][ix] + '\\n'\n",
    "    fp = datasub_val['prod_fp'][ix]\n",
    "    \n",
    "    sims = similarity_metric(fp, [fp_ for fp_ in datasub['prod_fp']])\n",
    "    js = np.argsort(sims)[::-1]\n",
    "\n",
    "    if draw: display(ReactionStringToImage(datasub_val['rxn_smiles'][ix]))\n",
    "    \n",
    "    prec_goal = Chem.MolFromSmiles(datasub_val['rxn_smiles'][ix].split('>')[0])\n",
    "    [a.ClearProp('molAtomMapNumber') for a in prec_goal.GetAtoms()]\n",
    "    prec_goal = Chem.MolToSmiles(prec_goal, True)\n",
    "    \n",
    "    # Sometimes stereochem takes another canonicalization...\n",
    "    prec_goal = Chem.MolToSmiles(Chem.MolFromSmiles(prec_goal), True)\n",
    "    if debug:\n",
    "        rec_for_printing += 'prec_goal: {}\\n'.format(prec_goal)\n",
    "    # Get probability of precursors\n",
    "    probs = {}\n",
    "    \n",
    "    for ji, j in enumerate(js[:max_prec]):\n",
    "        jx = datasub.index[j]\n",
    "        \n",
    "        if draw:\n",
    "            print('\\n\\n' + '-'*50 + '\\n')\n",
    "            print('RANK {} PRECEDENT'.format(ji+1))\n",
    "            print('PRODUCT MATCH SCORE: {}'.format(sims[j]))\n",
    "            display(ReactionStringToImage(datasub['rxn_smiles'][jx]))\n",
    "        if debug:\n",
    "            rec_for_printing += '\\nReaction precedent {}, prod similarity {}\\n'.format(\n",
    "                ji+1, sims[j])\n",
    "            rec_for_printing += '-> rxn_smiles {}\\n'.format(datasub['rxn_smiles'][jx])\n",
    "        if jx in jx_cache:\n",
    "            (rxn, template, rcts_ref_fp) = jx_cache[jx]\n",
    "        else:\n",
    "            retro_canonical = process_an_example(datasub['rxn_smiles'][jx], super_general=True)\n",
    "            if retro_canonical is None:\n",
    "                continue\n",
    "            template = '(' +  retro_canonical.replace('>>', ')>>') \n",
    "            rcts_ref_fp = getfp(datasub['rxn_smiles'][jx].split('>')[0])\n",
    "            rxn = rdchiralReaction(template)\n",
    "            jx_cache[jx] = (rxn, template, rcts_ref_fp)\n",
    "        if debug:\n",
    "            rec_for_printing += '-> template: {}\\n'.format(template)\n",
    "        if draw:\n",
    "            print('-> template: {}'.format(template))\n",
    "            \n",
    "        try:\n",
    "            outcomes = rdchiralRun(rxn, rct, combine_enantiomers=False)\n",
    "        except Exception as e:\n",
    "            print(e)\n",
    "            outcomes = []\n",
    "\n",
    "        if not outcomes and draw:\n",
    "            print('No precursors could be generated!')\n",
    "            \n",
    "        for precursors in outcomes:\n",
    "            precursors_fp = getfp(precursors)\n",
    "            precursors_sim = similarity_metric(precursors_fp, [rcts_ref_fp])[0]\n",
    "            if debug:\n",
    "                rec_for_printing += 'prec sim {} smiles {}\\n'.format(precursors_sim, precursors)\n",
    "            if draw:\n",
    "                print('Precursor similarity {}, overall {}, smiles {}'.format(\n",
    "                    precursors_sim, precursors_sim*sims[j], precursors))\n",
    "                display(MolToImage(Chem.MolFromSmiles(precursors)))\n",
    "            if precursors in probs:\n",
    "                probs[precursors] = max(probs[precursors], precursors_sim * sims[j])\n",
    "            else:\n",
    "                probs[precursors] = precursors_sim * sims[j]\n",
    "    \n",
    "    testlimit = 50\n",
    "    mols = []\n",
    "    legends = []\n",
    "\n",
    "    found_rank = 9999\n",
    "    for r, (prec, prob) in enumerate(sorted(probs.iteritems(), key=lambda x:x[1], reverse=True)[:testlimit]):\n",
    "        mols.append(Chem.MolFromSmiles(prec))\n",
    "        if prec == prec_goal:\n",
    "            found_rank = r + 1\n",
    "            legends.append('[TRUE] {}'.format(prob))\n",
    "        else:\n",
    "            legends.append('{}'.format(prob))\n",
    "            pass\n",
    "    if found_rank == 9999 and debug:\n",
    "        print(datasub_val['rxn_smiles'][ix])\n",
    "        display(ReactionStringToImage(datasub_val['rxn_smiles'][ix]))\n",
    "        print(prec_goal)\n",
    "        draw = True\n",
    "    \n",
    "    if draw: \n",
    "        img=MolsToGridImage(mols[:9],molsPerRow=3,subImgSize=(300,300),legends=legends[:9])\n",
    "        display(img)\n",
    "        for mol in mols[:9]:\n",
    "            print(Chem.MolToSmiles(mol, True))\n",
    "    if debug:\n",
    "        print(rec_for_printing)\n",
    "    if (draw or debug) and not nopause:\n",
    "        raw_input('pause')\n",
    "        clear_output()\n",
    "        \n",
    "    return found_rank"
   ]
  },
  {
   "cell_type": "markdown",
   "metadata": {
    "collapsed": true
   },
   "source": [
    "## More examples from each class"
   ]
  },
  {
   "cell_type": "code",
   "execution_count": 9,
   "metadata": {
    "scrolled": false
   },
   "outputs": [
    {
     "name": "stdout",
     "output_type": "stream",
     "text": [
      "45342\n",
      "3\n"
     ]
    },
    {
     "ename": "KeyError",
     "evalue": "45105",
     "output_type": "error",
     "traceback": [
      "\u001b[1;31m---------------------------------------------------------------------------\u001b[0m",
      "\u001b[1;31mKeyError\u001b[0m                                  Traceback (most recent call last)",
      "\u001b[1;32mC:\\ProgramData\\Anaconda3\\envs\\rxnmap\\lib\\site-packages\\pandas\\core\\indexes\\base.py\u001b[0m in \u001b[0;36mget_loc\u001b[1;34m(self, key, method, tolerance)\u001b[0m\n\u001b[0;32m   2897\u001b[0m             \u001b[1;32mtry\u001b[0m\u001b[1;33m:\u001b[0m\u001b[1;33m\u001b[0m\u001b[1;33m\u001b[0m\u001b[0m\n\u001b[1;32m-> 2898\u001b[1;33m                 \u001b[1;32mreturn\u001b[0m \u001b[0mself\u001b[0m\u001b[1;33m.\u001b[0m\u001b[0m_engine\u001b[0m\u001b[1;33m.\u001b[0m\u001b[0mget_loc\u001b[0m\u001b[1;33m(\u001b[0m\u001b[0mcasted_key\u001b[0m\u001b[1;33m)\u001b[0m\u001b[1;33m\u001b[0m\u001b[1;33m\u001b[0m\u001b[0m\n\u001b[0m\u001b[0;32m   2899\u001b[0m             \u001b[1;32mexcept\u001b[0m \u001b[0mKeyError\u001b[0m \u001b[1;32mas\u001b[0m \u001b[0merr\u001b[0m\u001b[1;33m:\u001b[0m\u001b[1;33m\u001b[0m\u001b[1;33m\u001b[0m\u001b[0m\n",
      "\u001b[1;32mpandas\\_libs\\index.pyx\u001b[0m in \u001b[0;36mpandas._libs.index.IndexEngine.get_loc\u001b[1;34m()\u001b[0m\n",
      "\u001b[1;32mpandas\\_libs\\index.pyx\u001b[0m in \u001b[0;36mpandas._libs.index.IndexEngine.get_loc\u001b[1;34m()\u001b[0m\n",
      "\u001b[1;32mpandas\\_libs\\hashtable_class_helper.pxi\u001b[0m in \u001b[0;36mpandas._libs.hashtable.Int64HashTable.get_item\u001b[1;34m()\u001b[0m\n",
      "\u001b[1;32mpandas\\_libs\\hashtable_class_helper.pxi\u001b[0m in \u001b[0;36mpandas._libs.hashtable.Int64HashTable.get_item\u001b[1;34m()\u001b[0m\n",
      "\u001b[1;31mKeyError\u001b[0m: 45105",
      "\nThe above exception was the direct cause of the following exception:\n",
      "\u001b[1;31mKeyError\u001b[0m                                  Traceback (most recent call last)",
      "\u001b[1;32m<ipython-input-9-8c4dc145665b>\u001b[0m in \u001b[0;36m<module>\u001b[1;34m\u001b[0m\n\u001b[0;32m     10\u001b[0m \u001b[0mprint\u001b[0m\u001b[1;33m(\u001b[0m\u001b[0mclass_\u001b[0m\u001b[1;33m)\u001b[0m\u001b[1;33m\u001b[0m\u001b[1;33m\u001b[0m\u001b[0m\n\u001b[0;32m     11\u001b[0m \u001b[0mixi\u001b[0m \u001b[1;33m=\u001b[0m \u001b[1;36m45105\u001b[0m\u001b[1;33m\u001b[0m\u001b[1;33m\u001b[0m\u001b[0m\n\u001b[1;32m---> 12\u001b[1;33m \u001b[0mdo_one\u001b[0m\u001b[1;33m(\u001b[0m\u001b[0mixi\u001b[0m\u001b[1;33m,\u001b[0m \u001b[0mdebug\u001b[0m\u001b[1;33m=\u001b[0m\u001b[1;32mFalse\u001b[0m\u001b[1;33m,\u001b[0m \u001b[0mdraw\u001b[0m\u001b[1;33m=\u001b[0m\u001b[1;32mTrue\u001b[0m\u001b[1;33m,\u001b[0m \u001b[0mnopause\u001b[0m\u001b[1;33m=\u001b[0m\u001b[1;32mTrue\u001b[0m\u001b[1;33m)\u001b[0m\u001b[1;33m\u001b[0m\u001b[1;33m\u001b[0m\u001b[0m\n\u001b[0m",
      "\u001b[1;32m<ipython-input-8-ad31773d82ae>\u001b[0m in \u001b[0;36mdo_one\u001b[1;34m(ix, draw, debug, max_prec, nopause)\u001b[0m\n\u001b[0;32m      7\u001b[0m     \u001b[0mrec_for_printing\u001b[0m \u001b[1;33m=\u001b[0m \u001b[1;34m''\u001b[0m\u001b[1;33m\u001b[0m\u001b[1;33m\u001b[0m\u001b[0m\n\u001b[0;32m      8\u001b[0m \u001b[1;33m\u001b[0m\u001b[0m\n\u001b[1;32m----> 9\u001b[1;33m     \u001b[0mex\u001b[0m \u001b[1;33m=\u001b[0m \u001b[0mChem\u001b[0m\u001b[1;33m.\u001b[0m\u001b[0mMolFromSmiles\u001b[0m\u001b[1;33m(\u001b[0m\u001b[0mdatasub_val\u001b[0m\u001b[1;33m[\u001b[0m\u001b[1;34m'prod_smiles'\u001b[0m\u001b[1;33m]\u001b[0m\u001b[1;33m[\u001b[0m\u001b[0mix\u001b[0m\u001b[1;33m]\u001b[0m\u001b[1;33m)\u001b[0m\u001b[1;33m\u001b[0m\u001b[1;33m\u001b[0m\u001b[0m\n\u001b[0m\u001b[0;32m     10\u001b[0m     \u001b[0mrct\u001b[0m \u001b[1;33m=\u001b[0m \u001b[0mrdchiralReactants\u001b[0m\u001b[1;33m(\u001b[0m\u001b[0mdatasub_val\u001b[0m\u001b[1;33m[\u001b[0m\u001b[1;34m'prod_smiles'\u001b[0m\u001b[1;33m]\u001b[0m\u001b[1;33m[\u001b[0m\u001b[0mix\u001b[0m\u001b[1;33m]\u001b[0m\u001b[1;33m)\u001b[0m\u001b[1;33m\u001b[0m\u001b[1;33m\u001b[0m\u001b[0m\n\u001b[0;32m     11\u001b[0m     \u001b[1;32mif\u001b[0m \u001b[0mdraw\u001b[0m\u001b[1;33m:\u001b[0m\u001b[1;33m\u001b[0m\u001b[1;33m\u001b[0m\u001b[0m\n",
      "\u001b[1;32mC:\\ProgramData\\Anaconda3\\envs\\rxnmap\\lib\\site-packages\\pandas\\core\\series.py\u001b[0m in \u001b[0;36m__getitem__\u001b[1;34m(self, key)\u001b[0m\n\u001b[0;32m    880\u001b[0m \u001b[1;33m\u001b[0m\u001b[0m\n\u001b[0;32m    881\u001b[0m         \u001b[1;32melif\u001b[0m \u001b[0mkey_is_scalar\u001b[0m\u001b[1;33m:\u001b[0m\u001b[1;33m\u001b[0m\u001b[1;33m\u001b[0m\u001b[0m\n\u001b[1;32m--> 882\u001b[1;33m             \u001b[1;32mreturn\u001b[0m \u001b[0mself\u001b[0m\u001b[1;33m.\u001b[0m\u001b[0m_get_value\u001b[0m\u001b[1;33m(\u001b[0m\u001b[0mkey\u001b[0m\u001b[1;33m)\u001b[0m\u001b[1;33m\u001b[0m\u001b[1;33m\u001b[0m\u001b[0m\n\u001b[0m\u001b[0;32m    883\u001b[0m \u001b[1;33m\u001b[0m\u001b[0m\n\u001b[0;32m    884\u001b[0m         \u001b[1;32mif\u001b[0m \u001b[0mis_hashable\u001b[0m\u001b[1;33m(\u001b[0m\u001b[0mkey\u001b[0m\u001b[1;33m)\u001b[0m\u001b[1;33m:\u001b[0m\u001b[1;33m\u001b[0m\u001b[1;33m\u001b[0m\u001b[0m\n",
      "\u001b[1;32mC:\\ProgramData\\Anaconda3\\envs\\rxnmap\\lib\\site-packages\\pandas\\core\\series.py\u001b[0m in \u001b[0;36m_get_value\u001b[1;34m(self, label, takeable)\u001b[0m\n\u001b[0;32m    988\u001b[0m \u001b[1;33m\u001b[0m\u001b[0m\n\u001b[0;32m    989\u001b[0m         \u001b[1;31m# Similar to Index.get_value, but we do not fall back to positional\u001b[0m\u001b[1;33m\u001b[0m\u001b[1;33m\u001b[0m\u001b[1;33m\u001b[0m\u001b[0m\n\u001b[1;32m--> 990\u001b[1;33m         \u001b[0mloc\u001b[0m \u001b[1;33m=\u001b[0m \u001b[0mself\u001b[0m\u001b[1;33m.\u001b[0m\u001b[0mindex\u001b[0m\u001b[1;33m.\u001b[0m\u001b[0mget_loc\u001b[0m\u001b[1;33m(\u001b[0m\u001b[0mlabel\u001b[0m\u001b[1;33m)\u001b[0m\u001b[1;33m\u001b[0m\u001b[1;33m\u001b[0m\u001b[0m\n\u001b[0m\u001b[0;32m    991\u001b[0m         \u001b[1;32mreturn\u001b[0m \u001b[0mself\u001b[0m\u001b[1;33m.\u001b[0m\u001b[0mindex\u001b[0m\u001b[1;33m.\u001b[0m\u001b[0m_get_values_for_loc\u001b[0m\u001b[1;33m(\u001b[0m\u001b[0mself\u001b[0m\u001b[1;33m,\u001b[0m \u001b[0mloc\u001b[0m\u001b[1;33m,\u001b[0m \u001b[0mlabel\u001b[0m\u001b[1;33m)\u001b[0m\u001b[1;33m\u001b[0m\u001b[1;33m\u001b[0m\u001b[0m\n\u001b[0;32m    992\u001b[0m \u001b[1;33m\u001b[0m\u001b[0m\n",
      "\u001b[1;32mC:\\ProgramData\\Anaconda3\\envs\\rxnmap\\lib\\site-packages\\pandas\\core\\indexes\\base.py\u001b[0m in \u001b[0;36mget_loc\u001b[1;34m(self, key, method, tolerance)\u001b[0m\n\u001b[0;32m   2898\u001b[0m                 \u001b[1;32mreturn\u001b[0m \u001b[0mself\u001b[0m\u001b[1;33m.\u001b[0m\u001b[0m_engine\u001b[0m\u001b[1;33m.\u001b[0m\u001b[0mget_loc\u001b[0m\u001b[1;33m(\u001b[0m\u001b[0mcasted_key\u001b[0m\u001b[1;33m)\u001b[0m\u001b[1;33m\u001b[0m\u001b[1;33m\u001b[0m\u001b[0m\n\u001b[0;32m   2899\u001b[0m             \u001b[1;32mexcept\u001b[0m \u001b[0mKeyError\u001b[0m \u001b[1;32mas\u001b[0m \u001b[0merr\u001b[0m\u001b[1;33m:\u001b[0m\u001b[1;33m\u001b[0m\u001b[1;33m\u001b[0m\u001b[0m\n\u001b[1;32m-> 2900\u001b[1;33m                 \u001b[1;32mraise\u001b[0m \u001b[0mKeyError\u001b[0m\u001b[1;33m(\u001b[0m\u001b[0mkey\u001b[0m\u001b[1;33m)\u001b[0m \u001b[1;32mfrom\u001b[0m \u001b[0merr\u001b[0m\u001b[1;33m\u001b[0m\u001b[1;33m\u001b[0m\u001b[0m\n\u001b[0m\u001b[0;32m   2901\u001b[0m \u001b[1;33m\u001b[0m\u001b[0m\n\u001b[0;32m   2902\u001b[0m         \u001b[1;32mif\u001b[0m \u001b[0mtolerance\u001b[0m \u001b[1;32mis\u001b[0m \u001b[1;32mnot\u001b[0m \u001b[1;32mNone\u001b[0m\u001b[1;33m:\u001b[0m\u001b[1;33m\u001b[0m\u001b[1;33m\u001b[0m\u001b[0m\n",
      "\u001b[1;31mKeyError\u001b[0m: 45105"
     ]
    }
   ],
   "source": [
    "import random\n",
    "if class_ != 'all': \n",
    "    random.seed(123)\n",
    "else:\n",
    "    import time\n",
    "    random.seed(time.time())\n",
    "ix = [ixi for ixi in datasub_val.loc[datasub_val['class'] == 3].index]\n",
    "ixi = random.choice(ix)\n",
    "print(ixi)\n",
    "print(class_)\n",
    "ixi = 45105\n",
    "do_one(ixi, debug=False, draw=True, nopause=True)"
   ]
  },
  {
   "cell_type": "code",
   "execution_count": null,
   "metadata": {},
   "outputs": [],
   "source": []
  }
 ],
 "metadata": {
  "kernelspec": {
   "display_name": "Python 3",
   "language": "python",
   "name": "python3"
  },
  "language_info": {
   "codemirror_mode": {
    "name": "ipython",
    "version": 3
   },
   "file_extension": ".py",
   "mimetype": "text/x-python",
   "name": "python",
   "nbconvert_exporter": "python",
   "pygments_lexer": "ipython3",
   "version": "3.6.13"
  }
 },
 "nbformat": 4,
 "nbformat_minor": 2
}
