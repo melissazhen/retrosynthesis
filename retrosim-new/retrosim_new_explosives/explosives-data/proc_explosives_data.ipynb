{
 "cells": [
  {
   "cell_type": "code",
   "execution_count": 1,
   "id": "7edce30d",
   "metadata": {},
   "outputs": [],
   "source": [
    "import pandas as pd\n",
    "import random      \n",
    "\n",
    "data = pd.read_csv(\"explosives_raw.csv\",encoding=\"gbk\")\n",
    "prod_smiles = []\n",
    "rcts_smiles = []\n",
    "rxn_smiles = []\n",
    "\n",
    "reaction_data = list(set(list(data['Reaction'])))\n",
    "random.seed(15)\n",
    "random.shuffle(reaction_data)\n",
    "\n",
    "for rxn_smi in reaction_data:\n",
    "    try:\n",
    "        split_smi = rxn_smi.split('>>')\n",
    "    except:\n",
    "        continue\n",
    "    if rxn_smi[:2] == '>>':\n",
    "        continue\n",
    "    prod_smi = split_smi[-1]\n",
    "    prod_smiles.append(prod_smi)\n",
    "    rcts_smi = split_smi[0]\n",
    "    rcts_smiles.append(rcts_smi)\n",
    "    rxn_smiles.append(rxn_smi)\n",
    "\n",
    "dataframe_explosive = pd.DataFrame({'Product':prod_smiles[:],'Reactant':rcts_smiles[:],'Rxn':rxn_smiles[:]})\n",
    "dataframe_explosive.to_csv('explosives_cleaned.csv',index=False)\n",
    "\n",
    "data_raw = pd.read_csv(\"explosives_cleaned.csv\",encoding=\"gbk\")\n",
    "reaction_data_raw = list(set(list(data_raw['Rxn'])))\n",
    "prod_smiles_raws = []\n",
    "rcts_smiles_raws = []\n",
    "rxn_smiles_raws = []\n",
    "prods = []\n",
    "\n",
    "for i in reaction_data_raw:\n",
    "    prod = i.split('>>')[-1]\n",
    "    reac_smiles_raw = i.split('>>')[0]\n",
    "    prods = prod.split('.')\n",
    "    for j in prods:\n",
    "        prod_smiles_raw = j\n",
    "        if len(j) < 10 :\n",
    "            continue\n",
    "        rxn_smiles_raw = reac_smiles_raw + '>>'+  prod_smiles_raw\n",
    "        prod_smiles_raws.append(prod_smiles_raw)\n",
    "        rcts_smiles_raws.append(reac_smiles_raw)\n",
    "        rxn_smiles_raws.append(rxn_smiles_raw)\n",
    "\n",
    "dataframe_explosive_raw = pd.DataFrame({'Product':prod_smiles_raws[:],'Reactant':rcts_smiles_raws[:],'Rxn':rxn_smiles_raws[:]})\n",
    "dataframe_explosive_raw.to_csv('explosive_single_product.csv',index=False)  "
   ]
  }
 ],
 "metadata": {
  "kernelspec": {
   "display_name": "Python 3 (ipykernel)",
   "language": "python",
   "name": "python3"
  },
  "language_info": {
   "codemirror_mode": {
    "name": "ipython",
    "version": 3
   },
   "file_extension": ".py",
   "mimetype": "text/x-python",
   "name": "python",
   "nbconvert_exporter": "python",
   "pygments_lexer": "ipython3",
   "version": "3.10.6"
  },
  "vscode": {
   "interpreter": {
    "hash": "8e485319fc577e7250f48261857a0755caefd889f9f07406f5fb2fc13a5bb68b"
   }
  }
 },
 "nbformat": 4,
 "nbformat_minor": 5
}
